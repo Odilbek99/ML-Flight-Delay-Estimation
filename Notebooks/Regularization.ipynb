{
 "cells": [
  {
   "cell_type": "code",
   "execution_count": 19,
   "id": "occasional-region",
   "metadata": {
    "id": "occasional-region"
   },
   "outputs": [],
   "source": [
    "# IMPORTING LIBRARIES AND USABLE PACKAGES\n",
    "import pandas as pd\n",
    "import numpy as np\n",
    "import sklearn\n",
    "from sklearn.model_selection import train_test_split\n",
    "from sklearn.linear_model import LinearRegression\n",
    "from sklearn import metrics\n",
    "from sklearn.pipeline import Pipeline\n",
    "from sklearn.preprocessing import PolynomialFeatures #to convert the original features into their higher order terms \n",
    "from sklearn.model_selection import cross_val_score\n",
    "import matplotlib.pyplot as plt\n",
    "from sklearn import linear_model\n",
    "%matplotlib inline"
   ]
  },
  {
   "cell_type": "code",
   "execution_count": 20,
   "id": "extreme-specification",
   "metadata": {
    "colab": {
     "base_uri": "https://localhost:8080/",
     "height": 241
    },
    "id": "extreme-specification",
    "outputId": "8856c990-094a-461a-a780-cc1c7057d7b2"
   },
   "outputs": [
    {
     "data": {
      "text/html": [
       "<div>\n",
       "<style scoped>\n",
       "    .dataframe tbody tr th:only-of-type {\n",
       "        vertical-align: middle;\n",
       "    }\n",
       "\n",
       "    .dataframe tbody tr th {\n",
       "        vertical-align: top;\n",
       "    }\n",
       "\n",
       "    .dataframe thead th {\n",
       "        text-align: right;\n",
       "    }\n",
       "</style>\n",
       "<table border=\"1\" class=\"dataframe\">\n",
       "  <thead>\n",
       "    <tr style=\"text-align: right;\">\n",
       "      <th></th>\n",
       "      <th>Unnamed: 0</th>\n",
       "      <th>Depature Airport</th>\n",
       "      <th>Destination Airport</th>\n",
       "      <th>DEP Date</th>\n",
       "      <th>DEP Year</th>\n",
       "      <th>DEP Month</th>\n",
       "      <th>DEP Day</th>\n",
       "      <th>DEP weekday</th>\n",
       "      <th>DEP Time</th>\n",
       "      <th>ARR Date</th>\n",
       "      <th>ARR Year</th>\n",
       "      <th>ARR Month</th>\n",
       "      <th>ARR Day</th>\n",
       "      <th>ARR weekday</th>\n",
       "      <th>ARR Time</th>\n",
       "      <th>Fligh Duration Time</th>\n",
       "      <th>Delay</th>\n",
       "    </tr>\n",
       "  </thead>\n",
       "  <tbody>\n",
       "    <tr>\n",
       "      <th>0</th>\n",
       "      <td>0</td>\n",
       "      <td>144</td>\n",
       "      <td>56</td>\n",
       "      <td>0</td>\n",
       "      <td>2015</td>\n",
       "      <td>10</td>\n",
       "      <td>27</td>\n",
       "      <td>1</td>\n",
       "      <td>92</td>\n",
       "      <td>0</td>\n",
       "      <td>2015</td>\n",
       "      <td>10</td>\n",
       "      <td>27</td>\n",
       "      <td>1</td>\n",
       "      <td>256</td>\n",
       "      <td>785.0</td>\n",
       "      <td>0.0</td>\n",
       "    </tr>\n",
       "    <tr>\n",
       "      <th>1</th>\n",
       "      <td>1</td>\n",
       "      <td>144</td>\n",
       "      <td>68</td>\n",
       "      <td>0</td>\n",
       "      <td>2015</td>\n",
       "      <td>10</td>\n",
       "      <td>27</td>\n",
       "      <td>1</td>\n",
       "      <td>118</td>\n",
       "      <td>0</td>\n",
       "      <td>2015</td>\n",
       "      <td>10</td>\n",
       "      <td>27</td>\n",
       "      <td>1</td>\n",
       "      <td>254</td>\n",
       "      <td>645.0</td>\n",
       "      <td>2.0</td>\n",
       "    </tr>\n",
       "    <tr>\n",
       "      <th>2</th>\n",
       "      <td>2</td>\n",
       "      <td>144</td>\n",
       "      <td>94</td>\n",
       "      <td>0</td>\n",
       "      <td>2015</td>\n",
       "      <td>10</td>\n",
       "      <td>27</td>\n",
       "      <td>1</td>\n",
       "      <td>129</td>\n",
       "      <td>0</td>\n",
       "      <td>2015</td>\n",
       "      <td>10</td>\n",
       "      <td>27</td>\n",
       "      <td>1</td>\n",
       "      <td>291</td>\n",
       "      <td>770.0</td>\n",
       "      <td>0.0</td>\n",
       "    </tr>\n",
       "    <tr>\n",
       "      <th>3</th>\n",
       "      <td>3</td>\n",
       "      <td>144</td>\n",
       "      <td>82</td>\n",
       "      <td>0</td>\n",
       "      <td>2015</td>\n",
       "      <td>10</td>\n",
       "      <td>27</td>\n",
       "      <td>1</td>\n",
       "      <td>150</td>\n",
       "      <td>1</td>\n",
       "      <td>2015</td>\n",
       "      <td>10</td>\n",
       "      <td>28</td>\n",
       "      <td>2</td>\n",
       "      <td>16</td>\n",
       "      <td>770.0</td>\n",
       "      <td>0.0</td>\n",
       "    </tr>\n",
       "    <tr>\n",
       "      <th>4</th>\n",
       "      <td>4</td>\n",
       "      <td>113</td>\n",
       "      <td>143</td>\n",
       "      <td>0</td>\n",
       "      <td>2015</td>\n",
       "      <td>10</td>\n",
       "      <td>27</td>\n",
       "      <td>1</td>\n",
       "      <td>171</td>\n",
       "      <td>0</td>\n",
       "      <td>2015</td>\n",
       "      <td>10</td>\n",
       "      <td>27</td>\n",
       "      <td>1</td>\n",
       "      <td>206</td>\n",
       "      <td>145.0</td>\n",
       "      <td>9.0</td>\n",
       "    </tr>\n",
       "  </tbody>\n",
       "</table>\n",
       "</div>"
      ],
      "text/plain": [
       "   Unnamed: 0  Depature Airport  Destination Airport  DEP Date  DEP Year  \\\n",
       "0           0               144                   56         0      2015   \n",
       "1           1               144                   68         0      2015   \n",
       "2           2               144                   94         0      2015   \n",
       "3           3               144                   82         0      2015   \n",
       "4           4               113                  143         0      2015   \n",
       "\n",
       "   DEP Month  DEP Day  DEP weekday  DEP Time  ARR Date  ARR Year  ARR Month  \\\n",
       "0         10       27            1        92         0      2015         10   \n",
       "1         10       27            1       118         0      2015         10   \n",
       "2         10       27            1       129         0      2015         10   \n",
       "3         10       27            1       150         1      2015         10   \n",
       "4         10       27            1       171         0      2015         10   \n",
       "\n",
       "   ARR Day  ARR weekday  ARR Time  Fligh Duration Time  Delay  \n",
       "0       27            1       256                785.0    0.0  \n",
       "1       27            1       254                645.0    2.0  \n",
       "2       27            1       291                770.0    0.0  \n",
       "3       28            2        16                770.0    0.0  \n",
       "4       27            1       206                145.0    9.0  "
      ]
     },
     "execution_count": 20,
     "metadata": {},
     "output_type": "execute_result"
    }
   ],
   "source": [
    "df = pd.read_csv('new_data.csv') # UPLOAD DATASET\n",
    "df.head()"
   ]
  },
  {
   "cell_type": "code",
   "execution_count": 10,
   "id": "serious-distribution",
   "metadata": {
    "id": "serious-distribution"
   },
   "outputs": [],
   "source": [
    "# REMOVING 1ST COLUMN\n",
    "df.drop(['Unnamed: 0'], axis='columns', inplace=True)"
   ]
  },
  {
   "cell_type": "code",
   "execution_count": 13,
   "id": "exterior-animal",
   "metadata": {
    "colab": {
     "base_uri": "https://localhost:8080/"
    },
    "id": "exterior-animal",
    "outputId": "d163416e-fe6d-4bcd-fe8b-63f760af9595"
   },
   "outputs": [
    {
     "data": {
      "text/plain": [
       "True"
      ]
     },
     "execution_count": 13,
     "metadata": {},
     "output_type": "execute_result"
    }
   ],
   "source": [
    "# PREDICTOR (X): Fligh Duration Time\n",
    "# TARGET (y): Delay\n",
    "\n",
    "X = np.nan_to_num(df['Fligh Duration Time']).reshape(-1,1) \n",
    "y = np.nan_to_num(df['Delay']).reshape(-1,1) \n",
    "y.shape == X.shape"
   ]
  },
  {
   "cell_type": "code",
   "execution_count": 14,
   "id": "touched-novelty",
   "metadata": {
    "id": "touched-novelty"
   },
   "outputs": [],
   "source": [
    "# SPLITTING DATASET\n",
    "# FOR USING MODEL WE SPLIT ONLY Fligh Duration Time and Delay\n",
    "\n",
    "X_train, X_test, y_train, y_test = train_test_split(X, y, test_size=0.2, random_state=123)\n",
    "X_train, X_val, y_train, y_val = train_test_split(X_train, y_train, test_size=1/8, random_state=123)"
   ]
  },
  {
   "cell_type": "code",
   "execution_count": 21,
   "id": "-iq7Xg7ULSBr",
   "metadata": {
    "colab": {
     "base_uri": "https://localhost:8080/",
     "height": 312
    },
    "id": "-iq7Xg7ULSBr",
    "outputId": "f4451489-6909-48db-8b07-aa5a29e66906",
    "scrolled": true
   },
   "outputs": [
    {
     "data": {
      "image/png": "[encoded data removed]",
      "text/plain": [
       "<Figure size 432x288 with 1 Axes>"
      ]
     },
     "metadata": {
      "needs_background": "light"
     },
     "output_type": "display_data"
    },
    {
     "name": "stdout",
     "output_type": "stream",
     "text": [
      "Best value of alpha: 2.2\n"
     ]
    }
   ],
   "source": [
    "# Using Lasso regularization\n",
    "# Identifying best alpha\n",
    "import matplotlib.pylab as plt\n",
    "import numpy as np\n",
    "from sklearn.metrics import mean_squared_error\n",
    "%matplotlib inline\n",
    "\n",
    "alphas = [2.2, 2, 1.5, 1.3, 1.2, 1.1, 1, 0.3, 0.1]\n",
    "losses = []\n",
    "for alpha in alphas:\n",
    "    # Write (5 lines): create a Lasso regressor with the alpha value.\n",
    "    # Fit it to the training set, then get the prediction of the validation set (x_val).\n",
    "    # calculate the mean sqaured error loss, then append it to the losses array\n",
    "    lasso = linear_model.Lasso(alpha=alpha)\n",
    "    lasso.fit(X_train, y_train)\n",
    "    y_pred = lasso.predict(X_val)\n",
    "    mse = mean_squared_error(y_val, y_pred)\n",
    "    losses.append(mse)\n",
    "plt.plot(alphas, losses)\n",
    "plt.title(\"Lasso alpha value selection\")\n",
    "plt.xlabel(\"alpha\")\n",
    "plt.ylabel(\"Mean squared error\")\n",
    "plt.show()\n",
    "\n",
    "best_alpha = alphas[np.argmin(losses)]\n",
    "print(\"Best value of alpha:\", best_alpha)"
   ]
  },
  {
   "cell_type": "code",
   "execution_count": 27,
   "id": "double-guidance",
   "metadata": {},
   "outputs": [
    {
     "name": "stdout",
     "output_type": "stream",
     "text": [
      "Lasso Coefficient [0.01530911]\n"
     ]
    }
   ],
   "source": [
    "# Coefficient of Lasso\n",
    "# Best alpha: 2.2\n",
    "lasso = linear_model.Lasso(alpha=2.2,max_iter=100,tol=0.1)\n",
    "lasso.fit(X_train,y_train)\n",
    "print(\"Lasso Coefficient\", lasso.coef_)"
   ]
  },
  {
   "cell_type": "code",
   "execution_count": 33,
   "id": "DcH2WB3CLu-g",
   "metadata": {
    "colab": {
     "base_uri": "https://localhost:8080/"
    },
    "id": "DcH2WB3CLu-g",
    "outputId": "2c42df85-98d5-49fc-cebf-b62b5d9d7286"
   },
   "outputs": [
    {
     "name": "stdout",
     "output_type": "stream",
     "text": [
      "MSE on testset: 475.2080869321574\n",
      "RMSE on testset: 21.799268036614382\n",
      "R2 Score: 0.006946877548726693\n",
      "Mean Absolute Error: 10.401714573194239\n"
     ]
    }
   ],
   "source": [
    "# measuring\n",
    "y_pred = lasso.predict(X_test)\n",
    "print(\"MSE on testset:\", mean_squared_error(y_test, y_pred))\n",
    "print(\"RMSE on testset:\", np.sqrt(mean_squared_error(y_test, y_pred)))\n",
    "print('R2 Score:', metrics.r2_score(y_test, y_pred))\n",
    "print('Mean Absolute Error:', metrics.mean_absolute_error(y_test, y_pred))"
   ]
  },
  {
   "cell_type": "code",
   "execution_count": null,
   "id": "AhTZd6OHMUc-",
   "metadata": {
    "id": "AhTZd6OHMUc-"
   },
   "outputs": [],
   "source": []
  }
 ],
 "metadata": {
  "colab": {
   "name": "Polynomial_Regression (copy).ipynb",
   "provenance": []
  },
  "kernelspec": {
   "display_name": "Python 3",
   "language": "python",
   "name": "python3"
  },
  "language_info": {
   "codemirror_mode": {
    "name": "ipython",
    "version": 3
   },
   "file_extension": ".py",
   "mimetype": "text/x-python",
   "name": "python",
   "nbconvert_exporter": "python",
   "pygments_lexer": "ipython3",
   "version": "3.8.10"
  }
 },
 "nbformat": 4,
 "nbformat_minor": 5
}
