{
 "cells": [
  {
   "cell_type": "code",
   "execution_count": 1,
   "id": "occasional-region",
   "metadata": {
    "id": "occasional-region"
   },
   "outputs": [],
   "source": [
    "# IMPORTING LIBRARIES AND USABLE PACKAGES\n",
    "import pandas as pd\n",
    "import numpy as np\n",
    "import sklearn\n",
    "from sklearn.model_selection import train_test_split\n",
    "from sklearn.linear_model import LinearRegression\n",
    "from sklearn import metrics\n",
    "from sklearn.pipeline import Pipeline\n",
    "from sklearn.preprocessing import PolynomialFeatures #to convert the original features into their higher order terms \n",
    "from sklearn.model_selection import cross_val_score\n",
    "import matplotlib.pyplot as plt\n",
    "%matplotlib inline"
   ]
  },
  {
   "cell_type": "code",
   "execution_count": 2,
   "id": "extreme-specification",
   "metadata": {
    "colab": {
     "base_uri": "https://localhost:8080/",
     "height": 261
    },
    "id": "extreme-specification",
    "outputId": "21bb9c2b-4000-46db-b5d2-b69fc38dbca3"
   },
   "outputs": [
    {
     "data": {
      "text/html": [
       "<div>\n",
       "<style scoped>\n",
       "    .dataframe tbody tr th:only-of-type {\n",
       "        vertical-align: middle;\n",
       "    }\n",
       "\n",
       "    .dataframe tbody tr th {\n",
       "        vertical-align: top;\n",
       "    }\n",
       "\n",
       "    .dataframe thead th {\n",
       "        text-align: right;\n",
       "    }\n",
       "</style>\n",
       "<table border=\"1\" class=\"dataframe\">\n",
       "  <thead>\n",
       "    <tr style=\"text-align: right;\">\n",
       "      <th></th>\n",
       "      <th>Unnamed: 0</th>\n",
       "      <th>Depature Airport</th>\n",
       "      <th>Destination Airport</th>\n",
       "      <th>DEP Date</th>\n",
       "      <th>DEP Year</th>\n",
       "      <th>DEP Month</th>\n",
       "      <th>DEP Day</th>\n",
       "      <th>DEP weekday</th>\n",
       "      <th>DEP Time</th>\n",
       "      <th>ARR Date</th>\n",
       "      <th>ARR Year</th>\n",
       "      <th>ARR Month</th>\n",
       "      <th>ARR Day</th>\n",
       "      <th>ARR weekday</th>\n",
       "      <th>ARR Time</th>\n",
       "      <th>Fligh Duration Time</th>\n",
       "      <th>Delay</th>\n",
       "    </tr>\n",
       "  </thead>\n",
       "  <tbody>\n",
       "    <tr>\n",
       "      <th>0</th>\n",
       "      <td>0</td>\n",
       "      <td>144</td>\n",
       "      <td>56</td>\n",
       "      <td>0</td>\n",
       "      <td>2015</td>\n",
       "      <td>10</td>\n",
       "      <td>27</td>\n",
       "      <td>1</td>\n",
       "      <td>92</td>\n",
       "      <td>0</td>\n",
       "      <td>2015</td>\n",
       "      <td>10</td>\n",
       "      <td>27</td>\n",
       "      <td>1</td>\n",
       "      <td>256</td>\n",
       "      <td>785.0</td>\n",
       "      <td>0.0</td>\n",
       "    </tr>\n",
       "    <tr>\n",
       "      <th>1</th>\n",
       "      <td>1</td>\n",
       "      <td>144</td>\n",
       "      <td>68</td>\n",
       "      <td>0</td>\n",
       "      <td>2015</td>\n",
       "      <td>10</td>\n",
       "      <td>27</td>\n",
       "      <td>1</td>\n",
       "      <td>118</td>\n",
       "      <td>0</td>\n",
       "      <td>2015</td>\n",
       "      <td>10</td>\n",
       "      <td>27</td>\n",
       "      <td>1</td>\n",
       "      <td>254</td>\n",
       "      <td>645.0</td>\n",
       "      <td>2.0</td>\n",
       "    </tr>\n",
       "    <tr>\n",
       "      <th>2</th>\n",
       "      <td>2</td>\n",
       "      <td>144</td>\n",
       "      <td>94</td>\n",
       "      <td>0</td>\n",
       "      <td>2015</td>\n",
       "      <td>10</td>\n",
       "      <td>27</td>\n",
       "      <td>1</td>\n",
       "      <td>129</td>\n",
       "      <td>0</td>\n",
       "      <td>2015</td>\n",
       "      <td>10</td>\n",
       "      <td>27</td>\n",
       "      <td>1</td>\n",
       "      <td>291</td>\n",
       "      <td>770.0</td>\n",
       "      <td>0.0</td>\n",
       "    </tr>\n",
       "    <tr>\n",
       "      <th>3</th>\n",
       "      <td>3</td>\n",
       "      <td>144</td>\n",
       "      <td>82</td>\n",
       "      <td>0</td>\n",
       "      <td>2015</td>\n",
       "      <td>10</td>\n",
       "      <td>27</td>\n",
       "      <td>1</td>\n",
       "      <td>150</td>\n",
       "      <td>1</td>\n",
       "      <td>2015</td>\n",
       "      <td>10</td>\n",
       "      <td>28</td>\n",
       "      <td>2</td>\n",
       "      <td>16</td>\n",
       "      <td>770.0</td>\n",
       "      <td>0.0</td>\n",
       "    </tr>\n",
       "    <tr>\n",
       "      <th>4</th>\n",
       "      <td>4</td>\n",
       "      <td>113</td>\n",
       "      <td>143</td>\n",
       "      <td>0</td>\n",
       "      <td>2015</td>\n",
       "      <td>10</td>\n",
       "      <td>27</td>\n",
       "      <td>1</td>\n",
       "      <td>171</td>\n",
       "      <td>0</td>\n",
       "      <td>2015</td>\n",
       "      <td>10</td>\n",
       "      <td>27</td>\n",
       "      <td>1</td>\n",
       "      <td>206</td>\n",
       "      <td>145.0</td>\n",
       "      <td>9.0</td>\n",
       "    </tr>\n",
       "  </tbody>\n",
       "</table>\n",
       "</div>"
      ],
      "text/plain": [
       "   Unnamed: 0  Depature Airport  Destination Airport  DEP Date  DEP Year  \\\n",
       "0           0               144                   56         0      2015   \n",
       "1           1               144                   68         0      2015   \n",
       "2           2               144                   94         0      2015   \n",
       "3           3               144                   82         0      2015   \n",
       "4           4               113                  143         0      2015   \n",
       "\n",
       "   DEP Month  DEP Day  DEP weekday  DEP Time  ARR Date  ARR Year  ARR Month  \\\n",
       "0         10       27            1        92         0      2015         10   \n",
       "1         10       27            1       118         0      2015         10   \n",
       "2         10       27            1       129         0      2015         10   \n",
       "3         10       27            1       150         1      2015         10   \n",
       "4         10       27            1       171         0      2015         10   \n",
       "\n",
       "   ARR Day  ARR weekday  ARR Time  Fligh Duration Time  Delay  \n",
       "0       27            1       256                785.0    0.0  \n",
       "1       27            1       254                645.0    2.0  \n",
       "2       27            1       291                770.0    0.0  \n",
       "3       28            2        16                770.0    0.0  \n",
       "4       27            1       206                145.0    9.0  "
      ]
     },
     "execution_count": 2,
     "metadata": {},
     "output_type": "execute_result"
    }
   ],
   "source": [
    "df = pd.read_csv('new_data.csv') # UPLOAD DATASET\n",
    "df.head()"
   ]
  },
  {
   "cell_type": "code",
   "execution_count": 3,
   "id": "serious-distribution",
   "metadata": {
    "id": "serious-distribution"
   },
   "outputs": [],
   "source": [
    "# REMOVING 1ST COLUMN\n",
    "df.drop(['Unnamed: 0'], axis='columns', inplace=True)"
   ]
  },
  {
   "cell_type": "code",
   "execution_count": 4,
   "id": "exterior-animal",
   "metadata": {
    "id": "exterior-animal"
   },
   "outputs": [],
   "source": [
    "# IN OUR DATASET THERE IS FLIGHT DATES IN THESE YEARS 2015,2016,2017,2018\n",
    "# WE TAKE ALL YEARS WHICH ARE SMALLER THAT 2018 AS train_data\n",
    "# AND 2018 YEAR AS test_data\n",
    "\n",
    "train_data = df[df['DEP Year']<=2017]\n",
    "test_data = df[df['DEP Year']>2017]"
   ]
  },
  {
   "cell_type": "code",
   "execution_count": 5,
   "id": "touched-novelty",
   "metadata": {
    "id": "touched-novelty"
   },
   "outputs": [],
   "source": [
    "# SPLITTING DATASET\n",
    "# FOR USING MODEL WE SPLIT ONLY Fligh Duration Time and Delay\n",
    "# PREDICTOR: Fligh Duration Time\n",
    "# TARGET: Delay\n",
    "\n",
    "X_train, y_train = np.nan_to_num(train_data.loc[:, train_data.columns != 'Delay']), np.nan_to_num(train_data['Delay'])\n",
    "X_test, y_test = test_data.loc[:, test_data.columns != 'Delay'], test_data['Delay']"
   ]
  },
  {
   "cell_type": "code",
   "execution_count": 6,
   "id": "hyniDygmdmNP",
   "metadata": {
    "colab": {
     "base_uri": "https://localhost:8080/",
     "height": 1000
    },
    "id": "hyniDygmdmNP",
    "outputId": "b9526569-6df5-4f4a-edd6-727b9ec21fdd"
   },
   "outputs": [],
   "source": [
    "# SCALING TRAIN AND TEST DATA USING StandardScaler\n",
    "from sklearn.preprocessing import StandardScaler\n",
    "\n",
    "\n",
    "scaler = StandardScaler()\n",
    "scaler.fit_transform(X_train)\n",
    "\n",
    "X_train = scaler.transform(X_train)\n",
    "X_test = scaler.transform(X_test)"
   ]
  },
  {
   "cell_type": "code",
   "execution_count": 7,
   "id": "latter-regard",
   "metadata": {
    "id": "latter-regard"
   },
   "outputs": [
    {
     "name": "stdout",
     "output_type": "stream",
     "text": [
      "[0.2005258 0.1907027]\n",
      "0.3912285011073441\n"
     ]
    },
    {
     "data": {
      "image/png": "[encoded data removed]",
      "text/plain": [
       "<Figure size 432x288 with 1 Axes>"
      ]
     },
     "metadata": {
      "needs_background": "light"
     },
     "output_type": "display_data"
    }
   ],
   "source": [
    "# TO REDUCE DIMENSIONALITY WE CAN USE PCA\n",
    "from sklearn.decomposition import PCA\n",
    "\n",
    "pca = PCA(n_components=2)\n",
    "x_train_reduced = pca.fit_transform(X_train)\n",
    "x_test_reduced = pca.fit_transform(X_test)\n",
    "\n",
    "print(pca.explained_variance_ratio_)\n",
    "print(np.sum(pca.explained_variance_ratio_))\n",
    "\n",
    "plt.scatter(x_train_reduced[:, 0], x_train_reduced[:, 1], marker='.')\n",
    "plt.show()"
   ]
  },
  {
   "cell_type": "code",
   "execution_count": 8,
   "id": "fiscal-madness",
   "metadata": {
    "id": "fiscal-madness"
   },
   "outputs": [
    {
     "name": "stdout",
     "output_type": "stream",
     "text": [
      "Model intercept : 8.525866983612175\n",
      "Model coefficients : [-0.28479985 -0.02643982]\n"
     ]
    }
   ],
   "source": [
    "# TESTING WITH MULTIPLE LINEAR REGRESSION MODEL \n",
    "linear_regression = LinearRegression()\n",
    "linear_regression.fit(x_train_reduced, y_train)\n",
    "y_pred = linear_regression.predict(x_test_reduced)\n",
    "print(f\"Model intercept : {linear_regression.intercept_}\")\n",
    "print(f\"Model coefficients : {linear_regression.coef_}\")"
   ]
  },
  {
   "cell_type": "code",
   "execution_count": 9,
   "id": "seven-thousand",
   "metadata": {},
   "outputs": [
    {
     "name": "stdout",
     "output_type": "stream",
     "text": [
      "Mean Absolute Error: 10.50387210597826\n",
      "Mean Squared Error: 357.36859842404186\n",
      "Root Mean Squared Error: 18.90419525988985\n",
      "R2 Score: -0.05118380376217213\n"
     ]
    }
   ],
   "source": [
    "# MEASURING PERFORMANCE OF LINEAR REGRESSION MODEL\n",
    "print('Mean Absolute Error:', metrics.mean_absolute_error(y_test, y_pred))\n",
    "print('Mean Squared Error:', metrics.mean_squared_error(y_test, y_pred))\n",
    "print('Root Mean Squared Error:', np.sqrt(metrics.mean_squared_error(y_test, y_pred)))\n",
    "print('R2 Score:', metrics.r2_score(y_test, y_pred))"
   ]
  },
  {
   "cell_type": "code",
   "execution_count": null,
   "id": "aquatic-tokyo",
   "metadata": {},
   "outputs": [],
   "source": []
  }
 ],
 "metadata": {
  "colab": {
   "name": "Untitled.ipynb",
   "provenance": []
  },
  "kernelspec": {
   "display_name": "Python 3",
   "language": "python",
   "name": "python3"
  },
  "language_info": {
   "codemirror_mode": {
    "name": "ipython",
    "version": 3
   },
   "file_extension": ".py",
   "mimetype": "text/x-python",
   "name": "python",
   "nbconvert_exporter": "python",
   "pygments_lexer": "ipython3",
   "version": "3.8.10"
  }
 },
 "nbformat": 4,
 "nbformat_minor": 5
}
